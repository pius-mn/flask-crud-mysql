{
  "nbformat": 4,
  "nbformat_minor": 0,
  "metadata": {
    "colab": {
      "name": "IMAGE-CLASSIFICATION-IN-CNN.ipynb",
      "provenance": [],
      "authorship_tag": "ABX9TyNAaEWlgFcyMXidFv9+FiYI",
      "include_colab_link": true
    },
    "kernelspec": {
      "name": "python3",
      "display_name": "Python 3"
    },
    "language_info": {
      "name": "python"
    }
  },
  "cells": [
    {
      "cell_type": "markdown",
      "metadata": {
        "id": "view-in-github",
        "colab_type": "text"
      },
      "source": [
        "<a href=\"https://colab.research.google.com/github/pius-mn/flask-crud-mysql/blob/main/IMAGE_CLASSIFICATION_IN_CNN.ipynb\" target=\"_parent\"><img src=\"https://colab.research.google.com/assets/colab-badge.svg\" alt=\"Open In Colab\"/></a>"
      ]
    },
    {
      "cell_type": "code",
      "execution_count": null,
      "metadata": {
        "id": "oYCDnaX86iSn"
      },
      "outputs": [],
      "source": [
        ""
      ]
    },
    {
      "cell_type": "code",
      "source": [
        "!pip install bing-image-downloader\n",
        "!pip install ipython-autotime\n",
        "%load_ext autotime\n",
        "!mkdir images\n",
        "from bing_image_downloader import downloader\n",
        "downloader.download(\"pretty sunflower\",limit=30, output_dir='images', adult_filter_off=True)\n",
        "downloader.download(\"rugby ball leather\",limit=30, output_dir='images', adult_filter_off=True)\n",
        "downloader.download(\"ice cream cone\",limit=30, output_dir='images', adult_filter_off=True)\n",
        "downloader.download(\"dog\",limit=30, output_dir='images', adult_filter_off=True)"
      ],
      "metadata": {
        "id": "iI37vIZZKeV2",
        "colab": {
          "base_uri": "https://localhost:8080/"
        },
        "outputId": "d9c96fc5-c57d-4a16-c4a3-cf94fe03019e"
      },
      "execution_count": null,
      "outputs": [
        {
          "output_type": "stream",
          "name": "stdout",
          "text": [
            "Looking in indexes: https://pypi.org/simple, https://us-python.pkg.dev/colab-wheels/public/simple/\n",
            "Requirement already satisfied: bing-image-downloader in /usr/local/lib/python3.7/dist-packages (1.1.2)\n",
            "Looking in indexes: https://pypi.org/simple, https://us-python.pkg.dev/colab-wheels/public/simple/\n",
            "Requirement already satisfied: ipython-autotime in /usr/local/lib/python3.7/dist-packages (0.3.1)\n",
            "Requirement already satisfied: ipython in /usr/local/lib/python3.7/dist-packages (from ipython-autotime) (5.5.0)\n",
            "Requirement already satisfied: pexpect in /usr/local/lib/python3.7/dist-packages (from ipython->ipython-autotime) (4.8.0)\n",
            "Requirement already satisfied: traitlets>=4.2 in /usr/local/lib/python3.7/dist-packages (from ipython->ipython-autotime) (5.1.1)\n",
            "Requirement already satisfied: pickleshare in /usr/local/lib/python3.7/dist-packages (from ipython->ipython-autotime) (0.7.5)\n",
            "Requirement already satisfied: prompt-toolkit<2.0.0,>=1.0.4 in /usr/local/lib/python3.7/dist-packages (from ipython->ipython-autotime) (1.0.18)\n",
            "Requirement already satisfied: pygments in /usr/local/lib/python3.7/dist-packages (from ipython->ipython-autotime) (2.6.1)\n",
            "Requirement already satisfied: setuptools>=18.5 in /usr/local/lib/python3.7/dist-packages (from ipython->ipython-autotime) (57.4.0)\n",
            "Requirement already satisfied: simplegeneric>0.8 in /usr/local/lib/python3.7/dist-packages (from ipython->ipython-autotime) (0.8.1)\n",
            "Requirement already satisfied: decorator in /usr/local/lib/python3.7/dist-packages (from ipython->ipython-autotime) (4.4.2)\n",
            "Requirement already satisfied: wcwidth in /usr/local/lib/python3.7/dist-packages (from prompt-toolkit<2.0.0,>=1.0.4->ipython->ipython-autotime) (0.2.5)\n",
            "Requirement already satisfied: six>=1.9.0 in /usr/local/lib/python3.7/dist-packages (from prompt-toolkit<2.0.0,>=1.0.4->ipython->ipython-autotime) (1.15.0)\n",
            "Requirement already satisfied: ptyprocess>=0.5 in /usr/local/lib/python3.7/dist-packages (from pexpect->ipython->ipython-autotime) (0.7.0)\n",
            "The autotime extension is already loaded. To reload it, use:\n",
            "  %reload_ext autotime\n",
            "mkdir: cannot create directory ‘images’: File exists\n",
            "[%] Downloading Images to /content/images/pretty sunflower\n",
            "\n",
            "\n",
            "[!!]Indexing page: 1\n",
            "\n",
            "[%] Indexed 30 Images on Page 1.\n",
            "\n",
            "===============================================\n",
            "\n",
            "[%] Downloading Image #1 from https://www.10wallpaper.com/wallpaper/2560x1440/1802/Pretty_sunflower_flowers_plant_closeup_2560x1440.jpg\n",
            "[%] File Downloaded !\n",
            "\n",
            "[%] Downloading Image #2 from https://i.pinimg.com/originals/70/28/15/7028151ff5ce9777b8105ee3acfe2522.jpg\n",
            "[%] File Downloaded !\n",
            "\n",
            "[%] Downloading Image #3 from https://i0.wp.com/texdr.wordpress.com/files/2009/07/wpid1250-img_4975.jpg\n",
            "[%] File Downloaded !\n",
            "\n",
            "[%] Downloading Image #4 from https://i.pinimg.com/originals/dd/85/81/dd8581bedcebc7d2ac327d439d792dbd.jpg\n",
            "[%] File Downloaded !\n",
            "\n",
            "[%] Downloading Image #5 from https://i.pinimg.com/originals/b9/38/b8/b938b8b361e2a573bbeee2d75799c647.jpg\n",
            "[%] File Downloaded !\n",
            "\n",
            "[%] Downloading Image #6 from https://cdn-0.preppywallpapers.com/wp-content/uploads/2019/08/Sunflower-iPhone-Wallpapers-1024x684.jpg\n",
            "[%] File Downloaded !\n",
            "\n",
            "[%] Downloading Image #7 from https://i.pinimg.com/originals/ca/38/d2/ca38d254b1ef1b98be9ebb2d743a1319.jpg\n",
            "[%] File Downloaded !\n",
            "\n",
            "[%] Downloading Image #8 from http://wallpapercave.com/wp/0qghkct.jpg\n",
            "[%] File Downloaded !\n",
            "\n",
            "[%] Downloading Image #9 from https://i.pinimg.com/originals/9c/02/5b/9c025b5c0a26aff3da57515b357493c8.jpg\n",
            "[%] File Downloaded !\n",
            "\n",
            "[%] Downloading Image #10 from https://www.wallpapers13.com/wp-content/uploads/2015/12/Sunflower-Field-Wallpaper-Beautiful-Flowers-Pictures-Sunflower-Field-Wallpaper.jpg\n",
            "[%] File Downloaded !\n",
            "\n",
            "[%] Downloading Image #11 from http://garden.org/pics/2013-12-19/Newyorkrita/38d0cc.jpg\n",
            "[%] File Downloaded !\n",
            "\n",
            "[%] Downloading Image #12 from http://4.bp.blogspot.com/-EvQYk5Z2ISQ/TV1Y6C9VAlI/AAAAAAAAADA/0PviOUYUjU8/s1600/Sunflower.jpg\n",
            "[%] File Downloaded !\n",
            "\n",
            "[%] Downloading Image #13 from https://i.pinimg.com/736x/5b/99/17/5b99176b53e46d8d932a81d55a2df17d.jpg\n",
            "[%] File Downloaded !\n",
            "\n",
            "[%] Downloading Image #14 from https://i.pinimg.com/originals/36/fb/99/36fb9933d56e37883d0e49ace2b2199e.jpg\n",
            "[%] File Downloaded !\n",
            "\n",
            "[%] Downloading Image #15 from http://4.bp.blogspot.com/-Uh1HTy66p7I/TkY6vYCvWjI/AAAAAAAAD0c/ny_MXcFowLE/s1600/sunflower_wallpaper_2069.JPG\n",
            "[%] File Downloaded !\n",
            "\n",
            "[%] Downloading Image #16 from https://c2.staticflickr.com/8/7196/6943280523_1e0a7cfe9c_b.jpg\n",
            "[%] File Downloaded !\n",
            "\n",
            "[%] Downloading Image #17 from http://getwallpapers.com/wallpaper/full/3/0/0/820319-download-sunflowers-wallpaper-2048x1361-lockscreen.jpg\n",
            "[%] File Downloaded !\n",
            "\n",
            "[%] Downloading Image #18 from https://brokenpanda.net/wp-content/uploads/1589449479_710_Cute-Sunflower-Wallpapers-2020.jpg\n",
            "[%] File Downloaded !\n",
            "\n",
            "[%] Downloading Image #19 from http://4.bp.blogspot.com/_W5lGWFz2VV4/TK5PqUu-ZTI/AAAAAAAAA-Q/rQXb9VnKUDc/s1600/_MG_3422+copy.jpg\n",
            "[%] File Downloaded !\n",
            "\n",
            "[%] Downloading Image #20 from http://justfunfacts.com/wp-content/uploads/2015/10/sunflower-close-up.jpg\n",
            "[%] File Downloaded !\n",
            "\n",
            "[%] Downloading Image #21 from https://i.pinimg.com/originals/02/8a/40/028a408660c210f1ee5c6f2a5103cfee.jpg\n",
            "[%] File Downloaded !\n",
            "\n",
            "[%] Downloading Image #22 from http://wallsdesk.com/wp-content/uploads/2017/01/Pictures-of-Sunflower-.jpg\n",
            "[%] File Downloaded !\n",
            "\n",
            "[%] Downloading Image #23 from https://i.pinimg.com/originals/fc/5d/81/fc5d81e394d89715a96c31d279b8fa16.jpg\n",
            "[%] File Downloaded !\n",
            "\n",
            "[%] Downloading Image #24 from http://1.bp.blogspot.com/-xIkAesKxBLA/TkY6hunS5II/AAAAAAAAD0I/S7uVZX1qf-4/s1600/sunflower_wallpaper_2064.jpg\n",
            "[%] File Downloaded !\n",
            "\n",
            "[%] Downloading Image #25 from https://live.staticflickr.com/6006/5974884640_c7d6de5dff_b.jpg\n",
            "[%] File Downloaded !\n",
            "\n",
            "[%] Downloading Image #26 from https://2.bp.blogspot.com/-gp5l_cXzcaI/VbYimyMdEYI/AAAAAAAACLI/2-WKqRiWm30/s1600/sunflowers%2BGermany.jpg\n",
            "[%] File Downloaded !\n",
            "\n",
            "[%] Downloading Image #27 from https://i.pinimg.com/originals/6b/83/9d/6b839df2b06a8fa80f478ecdc01753ad.jpg\n",
            "[%] File Downloaded !\n",
            "\n",
            "[%] Downloading Image #28 from http://wallsdesk.com/wp-content/uploads/2017/01/Sunflower-HD-Desktop.jpg\n",
            "[%] File Downloaded !\n",
            "\n",
            "[%] Downloading Image #29 from https://i.pinimg.com/originals/f7/64/cf/f764cf8f1a493706b4f508fb7dc7b20e.jpg\n",
            "[%] File Downloaded !\n",
            "\n",
            "[%] Downloading Image #30 from https://i.pinimg.com/originals/65/9d/1e/659d1eabdb8bb64747acf590d345bc53.jpg\n",
            "[%] File Downloaded !\n",
            "\n",
            "\n",
            "\n",
            "[%] Done. Downloaded 30 images.\n",
            "[%] Downloading Images to /content/images/rugby ball leather\n",
            "\n",
            "\n",
            "[!!]Indexing page: 1\n",
            "\n",
            "[%] Indexed 30 Images on Page 1.\n",
            "\n",
            "===============================================\n",
            "\n",
            "[%] Downloading Image #1 from https://cdn.shopify.com/s/files/1/0788/5979/products/mvp-leather-balls-heritage-leather-rugby-ball-2_2048x.jpg?v=1550134680\n",
            "[%] File Downloaded !\n",
            "\n",
            "[%] Downloading Image #2 from https://cdn.shopify.com/s/files/1/0788/5979/products/mvp-leather-balls-heritage-leather-rugby-ball-1_2356x.jpg?v=1550134680\n",
            "[%] File Downloaded !\n",
            "\n",
            "[%] Downloading Image #3 from https://cdn.shopify.com/s/files/1/0788/5979/products/mvp-leather-balls-deluxe-leather-rugby-ball-1_2356x.jpg?v=1551767452\n",
            "[%] File Downloaded !\n",
            "\n",
            "[%] Downloading Image #4 from https://images.footballfanatics.com/england-rugby/england-heritage-leather-rugby-ball_ss4_p-11915081+u-i1yzm7ua8msrxcp06yj2+v-79898d6efb7f4d5187711b139f60f3f8.jpg?_hv=1\n",
            "[%] File Downloaded !\n",
            "\n",
            "[%] Downloading Image #5 from https://cdn.shopify.com/s/files/1/0788/5979/products/mvp-leather-balls-brown-cream-leather-rugby-ball-1_2048x.jpg?v=1550134649\n",
            "[%] File Downloaded !\n",
            "\n",
            "[%] Downloading Image #6 from https://s3.amazonaws.com/sportinggifts/products/opt1/800/47660.jpg\n",
            "[%] File Downloaded !\n",
            "\n",
            "[%] Downloading Image #7 from https://cdn.shopify.com/s/files/1/0020/1025/1324/products/Vitnage_Brown_Leather_Rugby_Ball_36fcfbe7-d899-4540-9aa6-80ce8e2a0168_1024x1024.jpg?v=1554242167\n",
            "[%] File Downloaded !\n",
            "\n",
            "[%] Downloading Image #8 from https://www.prodirectrugby.com/productimages/V3_1_Gallery_1/139245.jpg\n",
            "[!] Issue getting: https://www.prodirectrugby.com/productimages/V3_1_Gallery_1/139245.jpg\n",
            "[!] Error:: HTTP Error 403: Forbidden\n",
            "[%] Downloading Image #8 from https://cdn-s3.touchofmodern.com/products/001/323/796/e46cdde2e60a6c3e6efb510cde0da461_large.jpg?1544121098\n",
            "[%] File Downloaded !\n",
            "\n",
            "[%] Downloading Image #9 from http://www.kraveantiques.co.uk/images/products/Brown-Rugby-Ball-1455-12.jpg\n",
            "[%] File Downloaded !\n",
            "\n",
            "[%] Downloading Image #10 from http://ceefc02649d25ca315ac-ef93c2ad0985f7464ef79b04e64427fa.r18.cf2.rackcdn.com/product_images/3600/Rugby2.jpg\n",
            "[%] File Downloaded !\n",
            "\n",
            "[%] Downloading Image #11 from https://cdn.shopify.com/s/files/1/0788/5979/products/mvp-leather-balls-brown-cream-leather-rugby-ball-2_2048x.jpg?v=1550134649\n",
            "[%] File Downloaded !\n",
            "\n",
            "[%] Downloading Image #12 from https://cdn-s3.touchofmodern.com/products/001/323/791/747ec1b9d79741dfdc64e98bedc689fc_large.jpg?1544121098\n",
            "[%] File Downloaded !\n",
            "\n",
            "[%] Downloading Image #13 from https://sportantiques.co.uk/pub/media/catalog/product/2/5/sportantiques-388204980787.jpg\n",
            "[Error]Invalid image, not saving https://sportantiques.co.uk/pub/media/catalog/product/2/5/sportantiques-388204980787.jpg\n",
            "\n",
            "[!] Issue getting: https://sportantiques.co.uk/pub/media/catalog/product/2/5/sportantiques-388204980787.jpg\n",
            "[!] Error:: Invalid image, not saving https://sportantiques.co.uk/pub/media/catalog/product/2/5/sportantiques-388204980787.jpg\n",
            "\n",
            "[%] Downloading Image #13 from http://images.esellerpro.com/2718/I/876/62/GIL-82001001%20New.jpg\n",
            "[%] File Downloaded !\n",
            "\n",
            "[%] Downloading Image #14 from https://sportantiques.co.uk/pub/media/catalog/product/2/5/sportantiques-388204978308.jpg\n",
            "[Error]Invalid image, not saving https://sportantiques.co.uk/pub/media/catalog/product/2/5/sportantiques-388204978308.jpg\n",
            "\n",
            "[!] Issue getting: https://sportantiques.co.uk/pub/media/catalog/product/2/5/sportantiques-388204978308.jpg\n",
            "[!] Error:: Invalid image, not saving https://sportantiques.co.uk/pub/media/catalog/product/2/5/sportantiques-388204978308.jpg\n",
            "\n",
            "[%] Downloading Image #14 from https://cdn1.bigcommerce.com/server1000/4dd02/images/stencil/1000x1000/products/682/3492/_MG_0374v2__78298.1332357807.jpg?c=2\n",
            "[%] File Downloaded !\n",
            "\n",
            "[%] Downloading Image #15 from https://www.jmsrugby.co.uk/images/leather-vintage-rugby-ball-p6883-4998_image.jpg\n",
            "[%] File Downloaded !\n",
            "\n",
            "[%] Downloading Image #16 from https://cdn.notonthehighstreet.com/fs/66/7f/caf0-7c5a-45fa-a436-44b52ec027a6/original_ram-rugby-vintage-leather-rugby-ball.jpg\n",
            "[%] File Downloaded !\n",
            "\n",
            "[%] Downloading Image #17 from https://homebarnshop.co.uk/wp-content/uploads/2017/11/fullsizeoutput_2028-e1510939138773.jpeg\n",
            "[%] File Downloaded !\n",
            "\n",
            "[%] Downloading Image #18 from http://images.esellerpro.com/2718/I/135/106/9/Allblack%20Ball.jpg\n",
            "[%] File Downloaded !\n",
            "\n",
            "[%] Downloading Image #19 from https://cdn.shopify.com/s/files/1/0226/2169/products/Angus_2048x2048_V2_760x.jpg?v=1511272444\n",
            "[%] File Downloaded !\n",
            "\n",
            "[%] Downloading Image #20 from https://cdn.notonthehighstreet.com/fs/4c/07/9290-2c69-4cb3-b354-bbed7cb9c420/original_personalised-vintage-leather-rugby-ball.jpg\n",
            "[%] File Downloaded !\n",
            "\n",
            "[%] Downloading Image #21 from https://cdn.notonthehighstreet.com/fs/42/d9/6b0e-cdb8-4146-add1-cb48f27157c1/original_vintage-leather-rugby-ball-full-size-hand-sewn.jpg\n",
            "[%] File Downloaded !\n",
            "\n",
            "[%] Downloading Image #22 from https://a.1stdibscdn.com/original-vintage-leather-rugby-ball-with-6-panels-for-sale/1121189/f_161686811571203319261/16168681_master.jpg?width=768\n",
            "[%] File Downloaded !\n",
            "\n",
            "[%] Downloading Image #23 from https://cdn.shopify.com/s/files/1/0226/2169/products/Chromexcel_2048x2048_V1_1024x1024.jpg?v=1511272698\n",
            "[%] File Downloaded !\n",
            "\n",
            "[%] Downloading Image #24 from https://a.1stdibscdn.com/antique-leather-rugby-ball-for-sale/f_9757/1542010524354/27322_master.jpg?width=768\n",
            "[%] File Downloaded !\n",
            "\n",
            "[%] Downloading Image #25 from http://img.auctiva.com/imgdata/9/3/4/5/4/4/webimg/666799573_o.jpg\n",
            "[%] File Downloaded !\n",
            "\n",
            "[%] Downloading Image #26 from https://cdn.notonthehighstreet.com/fs/f4/9c/bd3e-1b18-42c6-8afd-49041811df46/original_personalised-vintage-leather-rugby-ball.jpg\n",
            "[%] File Downloaded !\n",
            "\n",
            "[%] Downloading Image #27 from http://cdn.shopify.com/s/files/1/0068/0227/6407/products/2600_20RAAA13_2082001005_20Ball_20Leather_20Vintage_20Tan_20Sz5_1024x1024.jpg?v=1569495498\n",
            "[%] File Downloaded !\n",
            "\n",
            "\n",
            "\n",
            "[!!]Indexing page: 2\n",
            "\n",
            "[%] Indexed 35 Images on Page 2.\n",
            "\n",
            "===============================================\n",
            "\n",
            "[%] Downloading Image #28 from http://i.ebayimg.com/images/i/192098916483-0-1/s-l1000.jpg\n",
            "[%] File Downloaded !\n",
            "\n",
            "[%] Downloading Image #29 from http://i.ebayimg.com/images/i/191644837032-0-1/s-l1000.jpg\n",
            "[%] File Downloaded !\n",
            "\n",
            "[%] Downloading Image #30 from https://2.imimg.com/data2/CM/KH/MY-2811504/leather-rugby-ball.jpg\n",
            "[%] File Downloaded !\n",
            "\n",
            "\n",
            "\n",
            "[%] Done. Downloaded 30 images.\n",
            "[%] Downloading Images to /content/images/ice cream cone\n",
            "\n",
            "\n",
            "[!!]Indexing page: 1\n",
            "\n",
            "[%] Indexed 30 Images on Page 1.\n",
            "\n",
            "===============================================\n",
            "\n",
            "[%] Downloading Image #1 from https://www.camdenac.com/wp-content/uploads/2017/05/7-scoop-ice-cream-cone.jpg\n",
            "[%] File Downloaded !\n",
            "\n",
            "[%] Downloading Image #2 from http://graphics8.nytimes.com/images/2013/06/02/magazine/02wmt/02wmt-superJumbo-v3.jpg\n",
            "[%] File Downloaded !\n",
            "\n",
            "[%] Downloading Image #3 from https://static.fanpage.it/wp-content/uploads/sites/22/2018/07/coni.jpg\n",
            "[%] File Downloaded !\n",
            "\n",
            "[%] Downloading Image #4 from https://procaffenation.com/wp-content/uploads/2017/04/22-1.jpg\n",
            "[Error]Invalid image, not saving https://procaffenation.com/wp-content/uploads/2017/04/22-1.jpg\n",
            "\n",
            "[!] Issue getting: https://procaffenation.com/wp-content/uploads/2017/04/22-1.jpg\n",
            "[!] Error:: Invalid image, not saving https://procaffenation.com/wp-content/uploads/2017/04/22-1.jpg\n",
            "\n",
            "[%] Downloading Image #4 from https://shout.sg/wp-content/uploads/2020/03/photo_2020-03-16-15.01.25.jpeg\n",
            "[%] File Downloaded !\n",
            "\n",
            "[%] Downloading Image #5 from https://i5.walmartimages.com/asr/03ff4e94-417a-428b-911a-26c0b566cac1_1.3c42512a0c739fcfa5a00209bb60033f.jpeg\n",
            "[%] File Downloaded !\n",
            "\n",
            "[%] Downloading Image #6 from http://parkerproducts.com/wp-content/uploads/2017/11/plum_streusel_ice_cream.jpg\n",
            "[%] File Downloaded !\n",
            "\n",
            "[%] Downloading Image #7 from https://www.webstaurantstore.com/images/products/extra_large/15117/486446.jpg\n",
            "[!] Issue getting: https://www.webstaurantstore.com/images/products/extra_large/15117/486446.jpg\n",
            "[!] Error:: HTTP Error 403: Forbidden\n",
            "[%] Downloading Image #7 from https://static.vecteezy.com/system/resources/previews/000/677/161/original/vanilla-ice-cream-cone.jpg\n",
            "[%] File Downloaded !\n",
            "\n",
            "[%] Downloading Image #8 from https://wallpapercave.com/wp/wp8475993.jpg\n",
            "[%] File Downloaded !\n",
            "\n",
            "[%] Downloading Image #9 from https://cmkt-image-prd.global.ssl.fastly.net/0.1.0/ps/4054485/1820/2315/m1/fpnw/wm1/tyij8c12olpmxqhrslwnaf4jtiknrdxpookznyxeo8knjgwweioczmz8xuuwai3d-.jpg?1519493305&amp;s=f611347a7fcd6e038ee7011b534a3760\n",
            "[!] Issue getting: https://cmkt-image-prd.global.ssl.fastly.net/0.1.0/ps/4054485/1820/2315/m1/fpnw/wm1/tyij8c12olpmxqhrslwnaf4jtiknrdxpookznyxeo8knjgwweioczmz8xuuwai3d-.jpg?1519493305&amp;s=f611347a7fcd6e038ee7011b534a3760\n",
            "[!] Error:: HTTP Error 404: Not Found\n",
            "[%] Downloading Image #9 from https://www.webstaurantstore.com/images/products/extra_large/123848/1914523.jpg\n",
            "[!] Issue getting: https://www.webstaurantstore.com/images/products/extra_large/123848/1914523.jpg\n",
            "[!] Error:: HTTP Error 403: Forbidden\n",
            "[%] Downloading Image #9 from https://okcredit-blog-images-prod.storage.googleapis.com/2021/03/Ice-Cream-Cones2--1-.jpg\n",
            "[%] File Downloaded !\n",
            "\n",
            "[%] Downloading Image #10 from https://i.etsystatic.com/5389599/r/il/b1d43a/2001576708/il_794xN.2001576708_ckzx.jpg\n",
            "[%] File Downloaded !\n",
            "\n",
            "[%] Downloading Image #11 from https://www.makelifelovely.com/wp-content/uploads/2016/06/Fruity-Pebbles-Ice-Cream-Cone-Treats-1.jpg\n",
            "[%] File Downloaded !\n",
            "\n",
            "[%] Downloading Image #12 from https://www.homestoriesatoz.com/wp-content/uploads/2010/02/ice-cream-cones-858x1024.jpg\n",
            "[%] File Downloaded !\n",
            "\n",
            "[%] Downloading Image #13 from https://media01.stockfood.com/largepreviews/MzgzNDcyMjk0/12370074-An-ice-cream-cone-filled-with-chocolate-and-fruit-salad-for-a-summer-picnic.jpg\n",
            "[%] File Downloaded !\n",
            "\n",
            "[%] Downloading Image #14 from https://media.aldes.co.za/images/business/33917_33185_icecreamcones2_960x720.jpg\n",
            "[%] File Downloaded !\n",
            "\n",
            "[%] Downloading Image #15 from https://withberlinlove.com/wp-content/uploads/2015/02/Ice-Cream-Cone-at-Hokey-Pokey-Berlin.jpg\n",
            "[%] File Downloaded !\n",
            "\n",
            "[%] Downloading Image #16 from https://1.bp.blogspot.com/-QtJBre76CXc/W6epUUxftzI/AAAAAAAAnr4/v9IfwwHx2CgvpIRHg5kt0vA4M-FJ537RgCLcBGAs/s1600/IMG_4957.jpeg\n",
            "[%] File Downloaded !\n",
            "\n",
            "[%] Downloading Image #17 from http://www.webstaurantstore.com/images/products/extra_large/67189/507430.jpg\n",
            "[!] Issue getting: http://www.webstaurantstore.com/images/products/extra_large/67189/507430.jpg\n",
            "[!] Error:: HTTP Error 403: Forbidden\n",
            "[%] Downloading Image #17 from https://preview.redd.it/ws65c19dkvb31.jpg?auto=webp&amp;s=3fd5aef6918bfc02642bd7fffacf1ac3a5f75471\n",
            "[!] Issue getting: https://preview.redd.it/ws65c19dkvb31.jpg?auto=webp&amp;s=3fd5aef6918bfc02642bd7fffacf1ac3a5f75471\n",
            "[!] Error:: HTTP Error 403: Forbidden\n",
            "[%] Downloading Image #17 from https://purepng.com/public/uploads/medium/purepng.com-ice-cream-conefood-ice-cream-ice-cream-cone-cone-scoop-ice-941524625170atvoo.png\n",
            "[%] File Downloaded !\n",
            "\n",
            "[%] Downloading Image #18 from https://www.webstaurantstore.com/images/products/extra_large/123922/944575.jpg\n",
            "[!] Issue getting: https://www.webstaurantstore.com/images/products/extra_large/123922/944575.jpg\n",
            "[!] Error:: HTTP Error 403: Forbidden\n",
            "[%] Downloading Image #18 from https://alltop.com/viral/wp-content/uploads/2013/07/fotolia-ice-cream-cone.jpg\n",
            "[%] File Downloaded !\n",
            "\n",
            "[%] Downloading Image #19 from http://thehumorous.com/wp-content/uploads/2014/09/Epic-Ice-Cream-Cone.png\n",
            "[%] File Downloaded !\n",
            "\n",
            "[%] Downloading Image #20 from https://www.displayformore.com/wp-content/uploads/2019/07/fiberglass-ice-cream-cone.jpg\n",
            "[%] File Downloaded !\n",
            "\n",
            "[%] Downloading Image #21 from https://justdoughit.com/wp-content/uploads/MELTING-VANILLA-ICE-CREAM-CONE-503V-scaled.jpg\n",
            "[%] File Downloaded !\n",
            "\n",
            "[%] Downloading Image #22 from https://kellysthoughtsonthings.com/wp-content/uploads/2018/03/ice-cream-cone.jpg\n",
            "[%] File Downloaded !\n",
            "\n",
            "[%] Downloading Image #23 from https://i0.wp.com/scienceandsamosa.com/wp-content/uploads/2018/05/IMG_20180521_134350962.jpg\n",
            "[%] File Downloaded !\n",
            "\n",
            "\n",
            "\n",
            "[!!]Indexing page: 2\n",
            "\n",
            "[%] Indexed 35 Images on Page 2.\n",
            "\n",
            "===============================================\n",
            "\n",
            "[%] Downloading Image #24 from http://4.bp.blogspot.com/-24Ior6VBpsk/TbxaZXjlGyI/AAAAAAAAADg/O_gAKSrrQho/s1600/758icecream.jpg\n",
            "[%] File Downloaded !\n",
            "\n",
            "[%] Downloading Image #25 from https://www.decorcentral.com/images/D/IC404-L-01.jpg\n",
            "[%] File Downloaded !\n",
            "\n",
            "[%] Downloading Image #26 from http://www.lovesouthend.co.uk/wp-content/uploads/2014/10/ice-cream-cone.png\n",
            "[%] File Downloaded !\n",
            "\n",
            "[%] Downloading Image #27 from https://www.decorcentral.com/images/D/ICD410-L.jpg\n",
            "[%] File Downloaded !\n",
            "\n",
            "[%] Downloading Image #28 from http://cdn-image.foodandwine.com/sites/default/files/styles/4_3_horizontal_-_1200x900/public/1497371785/ice-cream-cones-history-FT-BLOG0617.jpg?itok=jwLKTjGr\n",
            "[%] File Downloaded !\n",
            "\n",
            "\n",
            "\n",
            "[!!]Indexing page: 3\n",
            "\n",
            "[%] Indexed 30 Images on Page 3.\n",
            "\n",
            "===============================================\n",
            "\n",
            "[%] Downloading Image #29 from https://mir-s3-cdn-cf.behance.net/project_modules/1400/619b4626460315.5635582e7e0a4.jpg\n",
            "[Error]Invalid image, not saving https://mir-s3-cdn-cf.behance.net/project_modules/1400/619b4626460315.5635582e7e0a4.jpg\n",
            "\n",
            "[!] Issue getting: https://mir-s3-cdn-cf.behance.net/project_modules/1400/619b4626460315.5635582e7e0a4.jpg\n",
            "[!] Error:: Invalid image, not saving https://mir-s3-cdn-cf.behance.net/project_modules/1400/619b4626460315.5635582e7e0a4.jpg\n",
            "\n",
            "[%] Downloading Image #29 from http://www.webstaurantstore.com/images/products/extra_large/123922/944575.jpg\n",
            "[!] Issue getting: http://www.webstaurantstore.com/images/products/extra_large/123922/944575.jpg\n",
            "[!] Error:: HTTP Error 403: Forbidden\n",
            "[%] Downloading Image #29 from https://thekingsbay.com/wp-content/uploads/2019/08/979acdf4-eabc-5136-9ae3-bdb58ad67937.jpg\n",
            "[%] File Downloaded !\n",
            "\n",
            "[%] Downloading Image #30 from https://freepngimg.com/thumb/ice_cream/25313-1-ice-cream-cone-picture.png\n",
            "[%] File Downloaded !\n",
            "\n",
            "\n",
            "\n",
            "[%] Done. Downloaded 30 images.\n",
            "[%] Downloading Images to /content/images/dog\n",
            "\n",
            "\n",
            "[!!]Indexing page: 1\n",
            "\n",
            "[%] Indexed 30 Images on Page 1.\n",
            "\n",
            "===============================================\n",
            "\n",
            "[%] Downloading Image #1 from https://gfp-2a3tnpzj.stackpathdns.com/wp-content/uploads/2018/06/dog-breeds-of-famous-dogs-1600x1065.jpg\n",
            "[%] File Downloaded !\n",
            "\n",
            "[%] Downloading Image #2 from https://www.thesprucepets.com/thmb/Qr1Jv3VfNKL4Is6Di3I6CbbkCro=/2121x1414/filters:fill(auto,1)/GettyImages-94292127-1c7ce7589d9e4d7f9373c76daf1477db.jpg\n",
            "[%] File Downloaded !\n",
            "\n",
            "[%] Downloading Image #3 from http://images6.fanpop.com/image/photos/39300000/Dog-dogs-39323649-1440-900.jpg\n",
            "[%] File Downloaded !\n",
            "\n",
            "[%] Downloading Image #4 from https://doggowner.com/wp-content/uploads/2020/08/brown-dog-names-cover-image.jpg\n",
            "[%] File Downloaded !\n",
            "\n",
            "[%] Downloading Image #5 from https://assets.website-files.com/597f79b8efcc0c000162f368/5eaac391f73d7d4933f8e437_Depositphotos_43148983_l-2015.jpg\n",
            "[%] File Downloaded !\n",
            "\n",
            "[%] Downloading Image #6 from https://www.wallpapergeeks.com/wp-content/uploads/2014/02/Mutt-Dog-Wallpaper.jpg\n",
            "[%] File Downloaded !\n",
            "\n",
            "[%] Downloading Image #7 from http://images6.fanpop.com/image/photos/35200000/Dog-dogs-35247719-3706-2480.jpg\n",
            "[%] File Downloaded !\n",
            "\n",
            "[%] Downloading Image #8 from https://unionlakepetservices.com/wp-content/uploads/2019/05/ULPS-Ears-AdobeStock_207410873.jpg\n",
            "[%] File Downloaded !\n",
            "\n",
            "[%] Downloading Image #9 from http://fergusonferguson.com/wp-content/uploads/2018/01/dogbite.jpg\n",
            "[%] File Downloaded !\n",
            "\n",
            "[%] Downloading Image #10 from https://www.britishpetinsurance.co.uk/wp-content/uploads/2021/02/cocker-spaniel-puppy-scaled.jpg\n",
            "[%] File Downloaded !\n",
            "\n",
            "[%] Downloading Image #11 from https://gfp-2a3tnpzj.stackpathdns.com/wp-content/uploads/2018/08/two-saint-bernard-puppies-sitting-in-a-pile-of-fall-leaves-1600x1055.jpg\n",
            "[%] File Downloaded !\n",
            "\n",
            "[%] Downloading Image #12 from https://topdoghub.com/wp-content/uploads/2020/05/shutterstock_568230175-1363x2048.jpg\n",
            "[%] File Downloaded !\n",
            "\n",
            "[%] Downloading Image #13 from https://www.thesprucepets.com/thmb/0L-ciguit4zwjhs1eSCFydvUF_k=/3811x2647/filters:fill(auto,1)/GettyImages-891855-001-5c6daa5b46e0fb00012d31ce.jpg\n",
            "[%] File Downloaded !\n",
            "\n",
            "[%] Downloading Image #14 from https://www.thesprucepets.com/thmb/bFYTnEGrEtOXpG5PWj9vKXhzGhI=/3864x2576/filters:fill(auto,1)/GettyImages-491785001-0b67be9de07442b980ad682ac934c573.jpg\n",
            "[%] File Downloaded !\n",
            "\n",
            "[%] Downloading Image #15 from http://gardeningclues.com/wp-content/uploads/2019/04/Best-Dog-Breed-For-Seniors-Chihuahua.jpg\n",
            "[%] File Downloaded !\n",
            "\n",
            "[%] Downloading Image #16 from https://www.caninenutritionist.co.uk/wp-content/uploads/2020/04/post-33039.jpg\n",
            "[%] File Downloaded !\n",
            "\n",
            "[%] Downloading Image #17 from http://petlandmallofgeorgia.com/wp-content/uploads/2019/03/Blog6.jpg\n",
            "[%] File Downloaded !\n",
            "\n",
            "[%] Downloading Image #18 from https://www.seattlehumane.org/wp-content/uploads/2018/10/shs-blog-features_0042_IMG_3950.jpg\n",
            "[!] Issue getting: https://www.seattlehumane.org/wp-content/uploads/2018/10/shs-blog-features_0042_IMG_3950.jpg\n",
            "[!] Error:: HTTP Error 403: Forbidden\n",
            "[%] Downloading Image #18 from https://img.peapix.com/ada361a2841f499f8a21eab138e37471.jpg\n",
            "[%] File Downloaded !\n",
            "\n",
            "[%] Downloading Image #19 from https://www.vets4pets.com/siteassets/dental-webheaders-dog---oct-20.jpg?w=585&amp;scale=down\n",
            "[%] File Downloaded !\n",
            "\n",
            "[%] Downloading Image #20 from https://moderndogmagazine.com/sites/default/files/images/uploads/Chesapeake.jpg\n",
            "[%] File Downloaded !\n",
            "\n",
            "[%] Downloading Image #21 from https://petrescuereport.com/wp-content/uploads/blilnd-deaf-dog.jpg\n",
            "[%] File Downloaded !\n",
            "\n",
            "[%] Downloading Image #22 from https://www.breedyourdog.com/uploads/listing_images/28032/76375/big_20170612_131224.jpg\n",
            "[%] File Downloaded !\n",
            "\n",
            "[%] Downloading Image #23 from https://www.growlsnarlsnap.com/wp-content/uploads/2020/08/aggressive-white-dog.jpg\n",
            "[%] File Downloaded !\n",
            "\n",
            "[%] Downloading Image #24 from https://wallup.net/wp-content/uploads/2018/10/06/336068-puppy-dog-pitbull.jpg\n",
            "[%] File Downloaded !\n",
            "\n",
            "[%] Downloading Image #25 from https://www.pennlive.com/resizer/oqC0Xm9Z0MEw80YITUtrtGm3UFQ=/1280x0/smart/advancelocal-adapter-image-uploads.s3.amazonaws.com/image.pennlive.com/home/penn-media/width2048/img/pets_impact/photo/45-itchy-dog2-300x237jpg-4067d7729397d96c.jpg\n",
            "[%] File Downloaded !\n",
            "\n",
            "[%] Downloading Image #26 from https://www.hdnicewallpapers.com/Walls/Big/Dog/Brown_Animal_Dog.jpg\n",
            "[!] Issue getting: https://www.hdnicewallpapers.com/Walls/Big/Dog/Brown_Animal_Dog.jpg\n",
            "[!] Error:: <urlopen error [SSL: CERTIFICATE_VERIFY_FAILED] certificate verify failed: certificate has expired (_ssl.c:1091)>\n",
            "[%] Downloading Image #26 from https://preview.redd.it/xhcn5uxxacg11.jpg?auto=webp&amp;s=4b7e6409a191615d9fc38eaac047c39a6d8fd5c9\n",
            "[!] Issue getting: https://preview.redd.it/xhcn5uxxacg11.jpg?auto=webp&amp;s=4b7e6409a191615d9fc38eaac047c39a6d8fd5c9\n",
            "[!] Error:: HTTP Error 403: Forbidden\n",
            "[%] Downloading Image #26 from http://3.bp.blogspot.com/_LDF9z4ZzZHo/TQAL_JcoTgI/AAAAAAAAAKY/KoLSxsgwu2I/s1600/1600DOG_14005.jpg\n",
            "[%] File Downloaded !\n",
            "\n",
            "[%] Downloading Image #27 from http://www.dogexpress.in/wp-content/uploads/2016/02/desktop-hd-boxers-dogs-pics-1.jpg\n",
            "[%] File Downloaded !\n",
            "\n",
            "\n",
            "\n",
            "[!!]Indexing page: 2\n",
            "\n",
            "[%] Indexed 35 Images on Page 2.\n",
            "\n",
            "===============================================\n",
            "\n",
            "[%] Downloading Image #28 from https://dogslim.com/images/labrador-672772_1920.e59b2ae92edf8f9495dd1b1e5b7e2809.hd.jpg\n",
            "[%] File Downloaded !\n",
            "\n",
            "[%] Downloading Image #29 from https://www.hdnicewallpapers.com/Walls/Big/Dog/Red_Dog_5K_Wallpaper.jpg\n",
            "[!] Issue getting: https://www.hdnicewallpapers.com/Walls/Big/Dog/Red_Dog_5K_Wallpaper.jpg\n",
            "[!] Error:: <urlopen error [SSL: CERTIFICATE_VERIFY_FAILED] certificate verify failed: certificate has expired (_ssl.c:1091)>\n",
            "[%] Downloading Image #29 from http://www.parade.pet/assets-v2/images/dog/img-dogs/03.jpg\n",
            "[%] File Downloaded !\n",
            "\n",
            "[%] Downloading Image #30 from https://wallup.net/wp-content/uploads/2018/10/06/364374-puppies-puppy-baby-dog-dogs-40.jpg\n",
            "[%] File Downloaded !\n",
            "\n",
            "\n",
            "\n",
            "[%] Done. Downloaded 30 images.\n",
            "time: 2min 6s (started: 2022-06-08 15:50:07 +00:00)\n"
          ]
        }
      ]
    },
    {
      "cell_type": "code",
      "source": [
        "#preprocessing data \n",
        "import numpy as np\n",
        "!pip install opencv-python\n",
        "import os\n",
        "import random\n",
        "import cv2\n",
        "import pickle\n",
        "import matplotlib.pyplot as plt\n"
      ],
      "metadata": {
        "colab": {
          "base_uri": "https://localhost:8080/"
        },
        "id": "9pnPdJMd7o4v",
        "outputId": "acbaa1fd-2cab-4b2d-ad55-7584ba1b6786"
      },
      "execution_count": null,
      "outputs": [
        {
          "output_type": "stream",
          "name": "stdout",
          "text": [
            "Looking in indexes: https://pypi.org/simple, https://us-python.pkg.dev/colab-wheels/public/simple/\n",
            "Requirement already satisfied: opencv-python in /usr/local/lib/python3.7/dist-packages (4.1.2.30)\n",
            "Requirement already satisfied: numpy>=1.14.5 in /usr/local/lib/python3.7/dist-packages (from opencv-python) (1.21.6)\n",
            "time: 3.48 s (started: 2022-06-08 15:52:14 +00:00)\n"
          ]
        }
      ]
    },
    {
      "cell_type": "code",
      "source": [
        "from keras.models import Sequential\n",
        "from keras.layers import Conv2D,MaxPooling2D,Flatten,Dense\n",
        "from tensorflow.keras.callbacks import TensorBoard\n",
        "import time\n",
        "from skimage.io import imread #image processing read\n",
        "from skimage.transform import resize #specific size of image"
      ],
      "metadata": {
        "colab": {
          "base_uri": "https://localhost:8080/"
        },
        "id": "qgxh82KGG_3k",
        "outputId": "f26ad4d0-2641-4fcc-a751-ea241c01bce1"
      },
      "execution_count": null,
      "outputs": [
        {
          "output_type": "stream",
          "name": "stdout",
          "text": [
            "time: 6.56 ms (started: 2022-06-08 15:52:17 +00:00)\n"
          ]
        }
      ]
    },
    {
      "cell_type": "code",
      "source": [
        "data_dir='/content/images'\n",
        "categories=['pretty sunflower', 'rugby ball leather', 'ice cream cone','dog']"
      ],
      "metadata": {
        "colab": {
          "base_uri": "https://localhost:8080/"
        },
        "id": "cIU4AD1u-kn3",
        "outputId": "4629e114-e902-478b-b806-dec7d9c03083"
      },
      "execution_count": null,
      "outputs": [
        {
          "output_type": "stream",
          "name": "stdout",
          "text": [
            "time: 1.97 ms (started: 2022-06-08 15:52:17 +00:00)\n"
          ]
        }
      ]
    },
    {
      "cell_type": "code",
      "source": [
        "img_size=150\n",
        "data=[] #\n",
        "for category in categories:\n",
        "  folder=os.path.join(data_dir,category)\n",
        "  label=categories.index(category)\n",
        "\n",
        " # print(folder)\n",
        "  for img in os.listdir(folder):\n",
        "    img_path=os.path.join(folder,img)\n",
        "    # print(img_path)\n",
        "    # break\n",
        "    img_arr=cv2.imread(img_path)\n",
        "    img_arr=cv2.resize(img_arr,(img_size,img_size))\n",
        "    # plt.imshow(img_arr)\n",
        "    # break\n",
        "    data.append([img_arr,label])"
      ],
      "metadata": {
        "colab": {
          "base_uri": "https://localhost:8080/"
        },
        "id": "OeA0DiDH-ykt",
        "outputId": "d4d988b3-3444-435d-ecd8-36c9f0e03f8c"
      },
      "execution_count": null,
      "outputs": [
        {
          "output_type": "stream",
          "name": "stdout",
          "text": [
            "time: 9.92 s (started: 2022-06-08 15:52:17 +00:00)\n"
          ]
        }
      ]
    },
    {
      "cell_type": "code",
      "source": [
        "random.shuffle(data)"
      ],
      "metadata": {
        "colab": {
          "base_uri": "https://localhost:8080/"
        },
        "id": "r7rv0N9q_f61",
        "outputId": "8fcd6877-4c9c-439f-b1b7-0285ecc2a66b"
      },
      "execution_count": null,
      "outputs": [
        {
          "output_type": "stream",
          "name": "stdout",
          "text": [
            "time: 1.86 ms (started: 2022-06-08 15:52:27 +00:00)\n"
          ]
        }
      ]
    },
    {
      "cell_type": "code",
      "source": [
        "x=[]\n",
        "y=[]\n",
        "for features, labels in data:\n",
        "  x.append(features)\n",
        "  y.append(labels)\n",
        "x=np.array(x)\n",
        "y=np.array(y)"
      ],
      "metadata": {
        "id": "rLkKuTN5CwVi",
        "colab": {
          "base_uri": "https://localhost:8080/"
        },
        "outputId": "dcad3009-e30e-47f3-e0fe-58f356e0e17c"
      },
      "execution_count": null,
      "outputs": [
        {
          "output_type": "stream",
          "name": "stdout",
          "text": [
            "time: 13.1 ms (started: 2022-06-08 15:52:27 +00:00)\n"
          ]
        }
      ]
    },
    {
      "cell_type": "code",
      "source": [
        "x=x/255 # scale images from 0 t0 1"
      ],
      "metadata": {
        "colab": {
          "base_uri": "https://localhost:8080/"
        },
        "id": "K5xFZK9BDJQM",
        "outputId": "7b44e9c6-c8ee-4b7d-d812-c8d8309daf74"
      },
      "execution_count": null,
      "outputs": [
        {
          "output_type": "stream",
          "name": "stdout",
          "text": [
            "time: 26.4 ms (started: 2022-06-08 15:52:27 +00:00)\n"
          ]
        }
      ]
    },
    {
      "cell_type": "code",
      "source": [
        "x.shape"
      ],
      "metadata": {
        "colab": {
          "base_uri": "https://localhost:8080/"
        },
        "id": "aB1PQt3HDYoC",
        "outputId": "927545d3-50ce-4138-955b-602fe92d429f"
      },
      "execution_count": null,
      "outputs": [
        {
          "output_type": "execute_result",
          "data": {
            "text/plain": [
              "(127, 150, 150, 3)"
            ]
          },
          "metadata": {},
          "execution_count": 44
        },
        {
          "output_type": "stream",
          "name": "stdout",
          "text": [
            "time: 4.63 ms (started: 2022-06-08 15:52:27 +00:00)\n"
          ]
        }
      ]
    },
    {
      "cell_type": "code",
      "source": [
        "\n",
        "model= Sequential()\n",
        "model.add(Conv2D(64,(3,3),activation='relu'))#64 layers/featuers size 3x3\n",
        "model.add(MaxPooling2D((2,2)))\n",
        "\n",
        "model.add(Conv2D(64,(3,3),activation='relu'))#64 layers/featuers size 3x3\n",
        "model.add(MaxPooling2D((2,2)))\n",
        "model.add(Flatten())\n",
        "model.add(Dense(128, input_shape=x.shape[1:], activation='relu'))\n",
        "model.add(Dense(4, activation='softmax')) # 4 categories to predict"
      ],
      "metadata": {
        "colab": {
          "base_uri": "https://localhost:8080/"
        },
        "id": "5nET6oylF-kr",
        "outputId": "4c7f4d63-e7d8-4bfb-dca9-e5395a782683"
      },
      "execution_count": null,
      "outputs": [
        {
          "output_type": "stream",
          "name": "stdout",
          "text": [
            "time: 50.5 ms (started: 2022-06-08 15:52:27 +00:00)\n"
          ]
        }
      ]
    },
    {
      "cell_type": "code",
      "source": [
        "model.compile(optimizer='adam', loss='sparse_categorical_crossentropy',\n",
        "              metrics=['accuracy'])"
      ],
      "metadata": {
        "id": "KMG2mx5wJZPo",
        "colab": {
          "base_uri": "https://localhost:8080/"
        },
        "outputId": "e3792706-475b-4b1f-a04b-66546bc0586a"
      },
      "execution_count": null,
      "outputs": [
        {
          "output_type": "stream",
          "name": "stdout",
          "text": [
            "time: 38.3 ms (started: 2022-06-08 15:52:27 +00:00)\n"
          ]
        }
      ]
    },
    {
      "cell_type": "code",
      "source": [
        "name=f'test-{int(time.time())}'\n",
        "tensorboard=TensorBoard(log_dir=f'logs\\\\{name}\\\\')\n",
        "model.fit(x,y, epochs=5, validation_split=0.1,batch_size=32,callbacks=[tensorboard])#validation_split part of data set kept for testing"
      ],
      "metadata": {
        "colab": {
          "base_uri": "https://localhost:8080/"
        },
        "id": "PdNsRTRnJ0Us",
        "outputId": "cfd9a7fa-a9ec-4df5-f11d-db81f576b252"
      },
      "execution_count": null,
      "outputs": [
        {
          "output_type": "stream",
          "name": "stdout",
          "text": [
            "Epoch 1/15\n",
            "4/4 [==============================] - 10s 2s/step - loss: 4.6570 - accuracy: 0.2895 - val_loss: 1.4784 - val_accuracy: 0.3077\n",
            "Epoch 2/15\n",
            "4/4 [==============================] - 11s 3s/step - loss: 1.5140 - accuracy: 0.3246 - val_loss: 1.1731 - val_accuracy: 0.4615\n",
            "Epoch 3/15\n",
            "4/4 [==============================] - 9s 2s/step - loss: 1.0644 - accuracy: 0.5439 - val_loss: 1.0545 - val_accuracy: 0.4615\n",
            "Epoch 4/15\n",
            "4/4 [==============================] - 6s 2s/step - loss: 0.7493 - accuracy: 0.7632 - val_loss: 0.9611 - val_accuracy: 0.4615\n",
            "Epoch 5/15\n",
            "4/4 [==============================] - 6s 1s/step - loss: 0.4755 - accuracy: 0.7895 - val_loss: 0.5006 - val_accuracy: 0.8462\n",
            "Epoch 6/15\n",
            "4/4 [==============================] - 6s 1s/step - loss: 0.3032 - accuracy: 0.8860 - val_loss: 0.7420 - val_accuracy: 0.6923\n",
            "Epoch 7/15\n",
            "4/4 [==============================] - 6s 1s/step - loss: 0.2070 - accuracy: 0.9211 - val_loss: 0.4261 - val_accuracy: 0.9231\n",
            "Epoch 8/15\n",
            "4/4 [==============================] - 6s 2s/step - loss: 0.1277 - accuracy: 0.9649 - val_loss: 0.6879 - val_accuracy: 0.7692\n",
            "Epoch 9/15\n",
            "4/4 [==============================] - 6s 1s/step - loss: 0.0706 - accuracy: 0.9649 - val_loss: 0.4995 - val_accuracy: 0.7692\n",
            "Epoch 10/15\n",
            "4/4 [==============================] - 6s 1s/step - loss: 0.0254 - accuracy: 0.9912 - val_loss: 0.9726 - val_accuracy: 0.6923\n",
            "Epoch 11/15\n",
            "4/4 [==============================] - 6s 1s/step - loss: 0.0219 - accuracy: 0.9912 - val_loss: 0.5873 - val_accuracy: 0.6923\n",
            "Epoch 12/15\n",
            "4/4 [==============================] - 7s 2s/step - loss: 0.0178 - accuracy: 0.9912 - val_loss: 0.4926 - val_accuracy: 0.7692\n",
            "Epoch 13/15\n",
            "4/4 [==============================] - 6s 2s/step - loss: 0.0058 - accuracy: 1.0000 - val_loss: 0.5900 - val_accuracy: 0.6923\n",
            "Epoch 14/15\n",
            "4/4 [==============================] - 6s 1s/step - loss: 0.0065 - accuracy: 1.0000 - val_loss: 0.6442 - val_accuracy: 0.7692\n",
            "Epoch 15/15\n",
            "4/4 [==============================] - 6s 1s/step - loss: 0.0018 - accuracy: 1.0000 - val_loss: 0.4834 - val_accuracy: 0.7692\n"
          ]
        },
        {
          "output_type": "execute_result",
          "data": {
            "text/plain": [
              "<keras.callbacks.History at 0x7f728265cc10>"
            ]
          },
          "metadata": {},
          "execution_count": 47
        },
        {
          "output_type": "stream",
          "name": "stdout",
          "text": [
            "time: 2min 23s (started: 2022-06-08 15:52:27 +00:00)\n"
          ]
        }
      ]
    },
    {
      "cell_type": "code",
      "source": [
        "#tensorboard --logdir=logs/\n"
      ],
      "metadata": {
        "id": "9K6TtQH0K8Co",
        "colab": {
          "base_uri": "https://localhost:8080/"
        },
        "outputId": "ac223a57-fb22-4f05-ef11-777f0bae66e9"
      },
      "execution_count": null,
      "outputs": [
        {
          "output_type": "stream",
          "name": "stdout",
          "text": [
            "time: 3.06 ms (started: 2022-06-08 15:54:51 +00:00)\n"
          ]
        }
      ]
    },
    {
      "cell_type": "code",
      "source": [
        "def image(path):\n",
        "    img = imread(path)\n",
        "    new_arr = resize(img, (img_size,img_size,3))\n",
        "    plt.imshow(new_arr)\n",
        "    new_arr = np.array(new_arr)\n",
        "    new_arr = new_arr.reshape(-1, img_size,img_size, 3)\n",
        "    return new_arr"
      ],
      "metadata": {
        "colab": {
          "base_uri": "https://localhost:8080/"
        },
        "id": "t83F_rPAQmlb",
        "outputId": "f3ed2300-1c2a-4462-90b4-33bbb97e5e91"
      },
      "execution_count": null,
      "outputs": [
        {
          "output_type": "stream",
          "name": "stdout",
          "text": [
            "time: 4.99 ms (started: 2022-06-08 15:54:51 +00:00)\n"
          ]
        }
      ]
    },
    {
      "cell_type": "code",
      "source": [
        "url=input(\"enter url: \")\n",
        "prediction = model.predict([image(url)])\n",
        "print(f'predicted: {categories[prediction.argmax()]} \\n')\n",
        "\n",
        "for index,item in enumerate(categories):\n",
        "    print(f'{item} : {prediction[0][index]*100}%')\n"
      ],
      "metadata": {
        "colab": {
          "base_uri": "https://localhost:8080/",
          "height": 408
        },
        "id": "baO0JDq9R7NA",
        "outputId": "13f4b559-0755-48e6-b6da-e7ce5724abf9"
      },
      "execution_count": null,
      "outputs": [
        {
          "output_type": "stream",
          "name": "stdout",
          "text": [
            "enter url: https://th.bing.com/th/id/OIP.e0PQ9IKLw2WkAyG2R9DdlAHaHa?w=196&h=196&c=7&r=0&o=5&pid=1.7\n",
            "predicted: rugby ball leather \n",
            "\n",
            "pretty sunflower : 2.3562709827729122e-05%\n",
            "rugby ball leather : 77.56931781768799%\n",
            "ice cream cone : 0.17832402372732759%\n",
            "dog : 22.25232869386673%\n"
          ]
        },
        {
          "output_type": "display_data",
          "data": {
            "text/plain": [
              "<Figure size 432x288 with 1 Axes>"
            ],
            "image/png": "[encoded data removed]"
          },
          "metadata": {
            "needs_background": "light"
          }
        },
        {
          "output_type": "stream",
          "name": "stdout",
          "text": [
            "time: 4.42 s (started: 2022-06-08 15:59:48 +00:00)\n"
          ]
        }
      ]
    },
    {
      "cell_type": "code",
      "source": [
        "\n",
        "img=imread(\"https://media.istockphoto.com/photos/cute-cat-and-dog-portrait-picture-id1137572791?b=1&k=20&m=1137572791&s=170667a&w=0&h=wcDi_MAi9xB-s00IIymYPhpG0dUK92_yfUeYJeOVQ-g=\")\n",
        "img_resized=resize(img,(150,150,3))\n",
        "plt.imshow(img_resized)"
      ],
      "metadata": {
        "id": "kGoixWdcW94z",
        "colab": {
          "base_uri": "https://localhost:8080/",
          "height": 304
        },
        "outputId": "c4f7ff3a-fba1-433c-c6fc-c425aea49c6a"
      },
      "execution_count": null,
      "outputs": [
        {
          "output_type": "execute_result",
          "data": {
            "text/plain": [
              "<matplotlib.image.AxesImage at 0x7f7281e47210>"
            ]
          },
          "metadata": {},
          "execution_count": 51
        },
        {
          "output_type": "display_data",
          "data": {
            "text/plain": [
              "<Figure size 432x288 with 1 Axes>"
            ],
            "image/png": "[encoded data removed]"
          },
          "metadata": {
            "needs_background": "light"
          }
        },
        {
          "output_type": "stream",
          "name": "stdout",
          "text": [
            "time: 396 ms (started: 2022-06-08 15:54:58 +00:00)\n"
          ]
        }
      ]
    },
    {
      "cell_type": "code",
      "source": [
        ""
      ],
      "metadata": {
        "id": "hDlo7WCsYP8i"
      },
      "execution_count": null,
      "outputs": []
    }
  ]
}